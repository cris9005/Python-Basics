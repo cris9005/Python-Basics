{
 "cells": [
  {
   "cell_type": "code",
   "execution_count": null,
   "id": "ce7dc555",
   "metadata": {},
   "outputs": [],
   "source": [
    "import pandas as pd\n",
    "import numpy as np\n",
    "import matplotlib.pyplot as plt"
   ]
  },
  {
   "cell_type": "code",
   "execution_count": null,
   "id": "92512458",
   "metadata": {},
   "outputs": [],
   "source": [
    "## FUNCTIONS TO READ DATA\n",
    "read_csv ## read delimited data from a file. Use Comma as default delimiter\n",
    "read_table ## read delimited data from a file. Use tab ('\\t') as default delimiter\n",
    "read_excel ## read data from excel file\n",
    "read_fwf ## fread data in fixed width column format\n",
    "read_clipboard ## read data from clipboard. Useful for converting tables from web pages."
   ]
  },
  {
   "cell_type": "code",
   "execution_count": null,
   "id": "c5db1ef9",
   "metadata": {},
   "outputs": [],
   "source": [
    "import pandas as pd\n",
    "df = pf.read_csv(\"filename.csv\")\n",
    "df.head(#)\n",
    "    \n",
    "df = pd.read_excel(\"file.xlsx\", \"Data\") ## load data sheet of excel file \n",
    "df = pd.read_csvI(\"file.txt\", sep='\\t')  # load data from text file having tab delimiter "
   ]
  },
  {
   "cell_type": "code",
   "execution_count": null,
   "id": "432806f2",
   "metadata": {},
   "outputs": [],
   "source": [
    "## CONVERTER VARIABLES\n",
    "srting_outcome = str(numeric_input)\n",
    "integer_out = int(string_input)\n",
    "float_out = float(string_input)\n",
    "\n",
    "from datetime import datetime\n",
    "char_date = 'Apr 1 2015 1:20 pm'\n",
    "date_obj = datetime.strptime(char_date, '%b % d % Y % I: % M % p')\n"
   ]
  },
  {
   "cell_type": "code",
   "execution_count": null,
   "id": "7f54d089",
   "metadata": {},
   "outputs": [],
   "source": [
    "## TRANSPOSE DATASET \n",
    "df = pd.read_excel('file.xlsx', 'sheet1')\n",
    "result = df.pivot(index='column_name', columns = 'new column options', values = 'data in new column')\n",
    "## SORT DATAFRAME\n",
    "print df.sort(['column','column2'], ascending=[True, False])\n"
   ]
  },
  {
   "cell_type": "code",
   "execution_count": null,
   "id": "a28458f0",
   "metadata": {},
   "outputs": [],
   "source": [
    "## REMOVE DUPLICATES\n",
    "rem_dup=df.drop_duplicates(['column1', 'column2'])\n",
    "\n",
    "## GROUP BY CMD\n",
    "test = dr.groupby(['column']).describe ## calculate count,avg, sum\n",
    "\n",
    "## NULL VALUEs\n",
    "df.isnull().sum()\n",
    "\n",
    "meanAge = np.mean(df.column1) ## calculate the mean value\n",
    "df.column1 = df.column1.fillna(meanAge) ## Replace missing values with mean values\n",
    "\n",
    "## MERGE/JOIN DATASETS\n",
    "\n",
    "df_new =pd.merge(df1, df2, how='inner', left_index=True, right_index=True)## merges df1 and df2 on index\n",
    "## Can used specific column to join instead of indexes, which are used by default"
   ]
  },
  {
   "cell_type": "code",
   "execution_count": null,
   "id": "487cad23",
   "metadata": {},
   "outputs": [],
   "source": [
    "## BASIC GRAPHS WITH MATPLOTLIB\n",
    "\n",
    "## Historgram\n",
    "\n",
    "## plots in matplotlib within a figure object use plt.figure to create new fig\n",
    "fig= plt.figure()\n",
    "\n",
    "## create one or more subplots using add_subplot to create full fig\n",
    "ax = fig.add_subplot(1,1,1) \n",
    "\n",
    "# Variable\n",
    "ax.hist(df['column1'], bins = 5)\n",
    "\n",
    "# Labels and Tit\n",
    "plt.title('something')\n",
    "plt.xlabel('xvariable')\n",
    "plt.ylabel('count of variable')\n",
    "plt.show()\n"
   ]
  },
  {
   "cell_type": "code",
   "execution_count": null,
   "id": "c6eb37b4",
   "metadata": {},
   "outputs": [],
   "source": [
    "## Scatterplot\n",
    "\n",
    "## plots in matplotlib within a figure object use plt.figure to create new fig\n",
    "fig= plt.figure()\n",
    "\n",
    "## create one or more subplots using add_subplot to create full fig\n",
    "ax = fig.add_subplot(1,1,1) \n",
    "\n",
    "# Variable\n",
    "ax.scatter(df['column1'], df['column2'])\n",
    "\n",
    "# Labels and Tit\n",
    "plt.title('something')\n",
    "plt.xlabel('xvariable')\n",
    "plt.ylabel('count of variable')\n",
    "plt.show()"
   ]
  },
  {
   "cell_type": "code",
   "execution_count": null,
   "id": "801a4c31",
   "metadata": {},
   "outputs": [],
   "source": [
    "import seaborn as sns\n",
    "sns.boxplot(df['numeric_column'])\n",
    "sns.despine()"
   ]
  },
  {
   "cell_type": "code",
   "execution_count": null,
   "id": "c3fef26d",
   "metadata": {},
   "outputs": [],
   "source": [
    "## Statistics \n",
    "\n",
    "test = df.groupby(['column1'], ['column2'])\n",
    "test.size()\n",
    "\n",
    "## Create sample dataframe\n",
    "import numpy as np\n",
    "import pandas as pd\n",
    "from random import sample\n",
    "\n",
    "## create random index\n",
    "rindex = np.array(sample(xrange(len(df)),5))\n"
   ]
  }
 ],
 "metadata": {
  "kernelspec": {
   "display_name": "Python 3 (ipykernel)",
   "language": "python",
   "name": "python3"
  },
  "language_info": {
   "codemirror_mode": {
    "name": "ipython",
    "version": 3
   },
   "file_extension": ".py",
   "mimetype": "text/x-python",
   "name": "python",
   "nbconvert_exporter": "python",
   "pygments_lexer": "ipython3",
   "version": "3.9.7"
  }
 },
 "nbformat": 4,
 "nbformat_minor": 5
}
