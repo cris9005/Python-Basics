{
 "cells": [
  {
   "cell_type": "code",
   "execution_count": null,
   "id": "ed7abc87",
   "metadata": {},
   "outputs": [],
   "source": [
    "##TYPES\n",
    "array = ([1,2], [3,4])\n",
    "a_list = ['a', 4, 5]\n",
    "my_string = 'this is awesome'\n",
    "\n",
    "## NUMPY ELEMENTS\n",
    "my_array[1] # select items in index 1\n",
    "my_array[0:2] #select items at index 0 and 1\n",
    "my_array[:, 0] # rows, columns\n",
    "\n",
    "my_array > 3, my_array*3, my_array _ np.array([same number of values])\n",
    "\n",
    "# NUMPLY ARRAY FUNCTIONS\n",
    "my_arrary.shape\n",
    "np.append(df_name) ## append items to an array\n",
    "np.insert(array_name, variable1, variable2) # insert items into array\n",
    "np.delete(array_name, variable1, variable2)\n",
    "np.mean(array)\n",
    "np.median()\n",
    "my_array.corrcoef()\n",
    "np.std(my_array)\n",
    "\n",
    "## LIST ELEMENTS\n",
    "# subset\n",
    "a_list[2]\n",
    "\n",
    "#slice\n",
    "a_list[start:exclude]\n",
    "a_list[1:] ## select items after index 0\n",
    "a_list[:3] # select items before index 3\n",
    "a_list[:] # copy a_list \n",
    "\n",
    "a_list + b_list, a_list *2, a_list > 4  will return true/false\n",
    "\n",
    "a_list.index(a) # get index of an item\n",
    "a_list.count(a) # get count on item\n",
    "a_list.append('!') # append an iteam at a time\n",
    "a_list.remove('!') ## Remove an item\n",
    "del(a_list[0:1]) # remove an an item\n",
    "a_list.reverse() # reverse the list\n",
    "a_list.extend('!') #Append an item\n",
    "a_list.pop(-1) # remove an item\n",
    "a_list.insert(0, '!') # insert an item\n",
    "a_list.sort() #sort the list\n",
    "\n",
    "## String Methods\n",
    "\n",
    "my_string.upper()\n",
    "my_string.lower()\n",
    "my_string.count('w')\n",
    "my_string.replace('old', 'new')\n",
    "my_string.strip() ## strip whitespaces\n",
    "\n",
    "help(str)\n"
   ]
  }
 ],
 "metadata": {
  "kernelspec": {
   "display_name": "Python 3 (ipykernel)",
   "language": "python",
   "name": "python3"
  },
  "language_info": {
   "codemirror_mode": {
    "name": "ipython",
    "version": 3
   },
   "file_extension": ".py",
   "mimetype": "text/x-python",
   "name": "python",
   "nbconvert_exporter": "python",
   "pygments_lexer": "ipython3",
   "version": "3.9.7"
  }
 },
 "nbformat": 4,
 "nbformat_minor": 5
}
