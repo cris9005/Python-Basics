{
 "cells": [
  {
   "cell_type": "code",
   "execution_count": null,
   "id": "ce7dc555",
   "metadata": {},
   "outputs": [],
   "source": [
    "import pandas as pd\n",
    "import numpy as np\n",
    "import matplotlib.pyplot as plt"
   ]
  },
  {
   "cell_type": "code",
   "execution_count": null,
   "id": "92512458",
   "metadata": {},
   "outputs": [],
   "source": [
    "## FUNCTIONS TO READ DATA\n",
    "read_csv ## read delimited data from a file. Use Comma as default delimiter\n",
    "read_table ## read delimited data from a file. Use tab ('\\t') as default delimiter\n",
    "read_excel ## read data from excel file\n",
    "read_fwf ## fread data in fixed width column format\n",
    "read_clipboard ## read data from clipboard. Useful for converting tables from web pages."
   ]
  },
  {
   "cell_type": "code",
   "execution_count": null,
   "id": "c5db1ef9",
   "metadata": {},
   "outputs": [],
   "source": [
    "import pandas as pd\n",
    "df = pf.read_csv(\"filename.csv\")\n",
    "df.head(#)\n",
    "    \n",
    "df = pd.read_excel(\"file.xlsx\", \"Data\") ## load data sheet of excel file \n",
    "df = pd.read_csvI(\"file.txt\", sep='\\t')  # load data from text file having tab delimiter "
   ]
  },
  {
   "cell_type": "code",
   "execution_count": null,
   "id": "432806f2",
   "metadata": {},
   "outputs": [],
   "source": [
    "## CONVERTER VARIABLES\n",
    "srting_outcome = str(numeric_input)\n",
    "integer_out = int(string_input)\n",
    "float_out = float(string_input)\n",
    "\n",
    "from datetime import datetime\n",
    "char_date = 'Apr 1 2015 1:20 pm'\n",
    "date_obj = datetime.strptime(char_date, '%b % d % Y % I: % M % p')\n"
   ]
  },
  {
   "cell_type": "code",
   "execution_count": null,
   "id": "7f54d089",
   "metadata": {},
   "outputs": [],
   "source": [
    "## TRANSPOSE DATASET \n",
    "df = pd.read_excel('file.xlsx', 'sheet1')\n",
    "result = df.pivot(index='column_name', columns = 'new column options', values = 'data in new column')\n",
    "## SORT DATAFRAME\n",
    "print df.sort(['column','column2'], ascending=[True, False])\n"
   ]
  },
  {
   "cell_type": "code",
   "execution_count": null,
   "id": "a28458f0",
   "metadata": {},
   "outputs": [],
   "source": [
    "## REMOVE DUPLICATES\n",
    "rem_dup=df.drop_duplicates(['column1', 'column2'])\n",
    "\n",
    "## GROUP BY CMD\n",
    "test = dr.groupby(['column']).describe ## calculate count,avg, sum\n",
    "\n",
    "## NULL VALUEs\n",
    "df.isnull().sum()\n",
    "\n",
    "meanAge = np.mean(df.column1) ## calculate the mean value\n",
    "df.column1 = df.column1.fillna(meanAge) ## Replace missing values with mean values\n",
    "\n",
    "## MERGE/JOIN DATASETS\n",
    "\n",
    "df_new =pd.merge(df1, df2, how='inner', left_index=True, right_index=True)## merges df1 and df2 on index\n",
    "## Can used specific column to join instead of indexes, which are used by default\n",
    "\n",
    "pd.read_excel('file', sheet_name = 'tab1')\n",
    "pd.merge(left, right, how='outer'/'left'/'right')  # default is inner join which returns common columns and returns common rows\n",
    "# Outer matchs matching rows from both plus non matching rows \n",
    "# left is returns only all the rows from the left df and only matching rows from df2\n",
    "# diff column names we option and left_on and right_on with column names\n",
    "pd.join() ## less flexible than merge \n",
    "df3 = df1.join(df2, lsuffix = '_df1', rsuffix='_df2') ## output contains all rows and cols for both dfs\n",
    "## reset index in both and eg. df11.set_index('col1', inplace=True)\n",
    "#df3 = df.11.join(df22,  lsuffix = '_df1', rsuffix='_df2', on= 'col1')\n",
    "pd.concat() # stacks things on top of each other\n",
    "pd.concat([df1, df2], axis = 1) ## side by side with axis =1\n",
    "pd.concat([df1,df2], axis = 1, keys = ['df1_data', 'df2_data']) ## hierarchical format of data \n",
    "\n"
   ]
  },
  {
   "cell_type": "code",
   "execution_count": null,
   "id": "487cad23",
   "metadata": {},
   "outputs": [],
   "source": [
    "## BASIC GRAPHS WITH MATPLOTLIB\n",
    "\n",
    "## Historgram\n",
    "\n",
    "## plots in matplotlib within a figure object use plt.figure to create new fig\n",
    "fig= plt.figure()\n",
    "\n",
    "## create one or more subplots using add_subplot to create full fig\n",
    "ax = fig.add_subplot(1,1,1) \n",
    "\n",
    "# Variable\n",
    "ax.hist(df['column1'], bins = 5)\n",
    "\n",
    "# Labels and Tit\n",
    "plt.title('something')\n",
    "plt.xlabel('xvariable')\n",
    "plt.ylabel('count of variable')\n",
    "plt.show()\n"
   ]
  },
  {
   "cell_type": "code",
   "execution_count": null,
   "id": "c6eb37b4",
   "metadata": {},
   "outputs": [],
   "source": [
    "## Scatterplot\n",
    "\n",
    "## plots in matplotlib within a figure object use plt.figure to create new fig\n",
    "fig= plt.figure()\n",
    "\n",
    "## create one or more subplots using add_subplot to create full fig\n",
    "ax = fig.add_subplot(1,1,1) \n",
    "\n",
    "# Variable\n",
    "ax.scatter(df['column1'], df['column2'])\n",
    "\n",
    "# Labels and Tit\n",
    "plt.title('something')\n",
    "plt.xlabel('xvariable')\n",
    "plt.ylabel('count of variable')\n",
    "plt.show()"
   ]
  },
  {
   "cell_type": "code",
   "execution_count": null,
   "id": "801a4c31",
   "metadata": {},
   "outputs": [],
   "source": [
    "import seaborn as sns\n",
    "sns.boxplot(df['numeric_column'])\n",
    "sns.despine()"
   ]
  },
  {
   "cell_type": "code",
   "execution_count": null,
   "id": "c3fef26d",
   "metadata": {},
   "outputs": [],
   "source": [
    "## Statistics \n",
    "\n",
    "test = df.groupby(['column1'], ['column2'])\n",
    "test.size()\n",
    "\n",
    "## Create sample dataframe\n",
    "import numpy as np\n",
    "import pandas as pd\n",
    "from random import sample\n",
    "\n",
    "## create random index\n",
    "rindex = np.array(sample(xrange(len(df)),5))\n"
   ]
  },
  {
   "cell_type": "code",
   "execution_count": null,
   "id": "ac93f544-ac94-4d4e-ba93-98a84ef9b481",
   "metadata": {},
   "outputs": [],
   "source": [
    "import matplotlib.pyplot as plt\n",
    "x = np.array([1,2,3,4,5,6,7,8,9,10])\n",
    "x2 = x**2\n",
    "plt.figure()\n",
    "plt.plot(x, '-o', x2, '-o')\n",
    "plt.show()"
   ]
  },
  {
   "cell_type": "code",
   "execution_count": null,
   "id": "6e5a037e-d8a6-481d-a426-dc3932699036",
   "metadata": {},
   "outputs": [],
   "source": [
    "\n",
    "# Mark True or False\n",
    "\n",
    "arr2 = []\n",
    "arr2==True\n",
    "\n",
    "d = {'boolean':True}\n",
    "d==True\n",
    "\n",
    "num=0\n",
    "num==True\n",
    "\n",
    "s=set()\n",
    "s==True\n",
    "\n",
    "arr = [False]\n",
    "arr==True"
   ]
  },
  {
   "cell_type": "code",
   "execution_count": null,
   "id": "3b5fd042-4173-49a4-9756-f1981186961a",
   "metadata": {},
   "outputs": [],
   "source": [
    "#Sort following array in to one dimension list\n",
    "student_scores = np.array([[86, 89], [42,98]])\n",
    "oned = student_scores.flatten()\n",
    "#expected output\n",
    "print(np.sort(oned)[::-1].T)"
   ]
  },
  {
   "cell_type": "code",
   "execution_count": null,
   "id": "27c2db5e-bfbe-4f80-a5f7-e556c7b64166",
   "metadata": {},
   "outputs": [],
   "source": [
    "from sklearn.feature_extraction.text import TfidfVectorizer\n",
    "corpus = [\n",
    "  'This is the first document.',\n",
    "  'This document is the second document.',\n",
    "  'And this is the third one.',\n",
    "  'Is this the first document?'\n",
    "]\n",
    "vectorizer = TfidfVectorizer()\n",
    "X = vectorizer.fit_transform(corpus)\n",
    "X.toarray()"
   ]
  },
  {
   "cell_type": "code",
   "execution_count": null,
   "id": "cd5f7891-e76d-42b6-95ed-9c9105d5217a",
   "metadata": {},
   "outputs": [],
   "source": [
    "improt pandas as pd\n",
    "text=['aQx12', 'aub 6 5']\n",
    "df = pd.DataFrame({'text':text})\n",
    "#expected output\n",
    "df.text.str.split(expand=True)[0]"
   ]
  },
  {
   "cell_type": "code",
   "execution_count": null,
   "id": "858bb345-2120-488b-b6b4-7bdb2103d295",
   "metadata": {},
   "outputs": [],
   "source": [
    "import numpy as np\n",
    "import random\n",
    "random.seed(42)\n",
    "scores = np.round(random.sample(list(np.linspace(60,100,50)),20))\n",
    "\n",
    "#min max sclaler problem\n",
    "def scale_min_max(x):\n",
    "  result= (x-score.min()) / (scores.max() - scores.min())\n",
    "  resturn result\n",
    "#expected output\n",
    "scale_min_max(scores)"
   ]
  },
  {
   "cell_type": "code",
   "execution_count": null,
   "id": "43ec9b14-92e8-4de8-be8a-b60968991b1e",
   "metadata": {},
   "outputs": [],
   "source": [
    "\n",
    "import numpy as np\n",
    "student_scores = np.array([[86,79,81,85],[92,85,87,87],[73,77,94,83]])\n",
    "#use np.vectorize\n",
    "def add_10_percent(x,y):\n",
    "  return x*y\n",
    "vfunc = np.vectorize(add_10_percent)\n",
    "vfunc(student_scores, 1,1)\n",
    "\n",
    "#or just for the answer, you can use more naive way to get an answer since you only need to get an ouput anyway\n",
    "add_10_percent = student_scores * 0.1\n",
    "#expected output\n",
    "add_10_percent + studnet_score"
   ]
  },
  {
   "cell_type": "markdown",
   "id": "bb9e49e0-f38f-4f08-bb61-4565b48332c5",
   "metadata": {},
   "source": [
    "# R sample code is following (+ I will prettify this later)\n",
    " \n"
   ]
  },
  {
   "cell_type": "code",
   "execution_count": null,
   "id": "7b7c869f-0ae0-4985-9d18-50a277cdac85",
   "metadata": {},
   "outputs": [],
   "source": [
    "conversion_matrix=matrix(c(0.32,0.12,0.14,0.24), nrow=2, ncol=2)\n",
    "column_names = c(\"Product1\",\"Product2\")\n",
    "write.csv(conversion_matrix, col.names = column_names, \"conversion_.csv\", row.names=F, sep=\",\")\n",
    "new_df = read.csv('conversion_.csv')\n",
    "data(\"USAccDeaths\")\n",
    "USAccDeathsDF <- list(month.abb, unique(floor(time(USAccDeaths))))\n",
    "USAccDeathsDF <- as.data.frame(t(matrix(USAccDeaths, 12, dimnames = USAccDeathsDF)))\n",
    "month_average=colMeans(USAccDeathsDF)\n",
    "min(month_average)\n",
    "\n",
    "names(month_average[2])\n",
    "ts_decomposed = stl(USAccDeaths, s.window=7)\n",
    "ts_decomposed\n",
    "\n",
    "Jan_1974 = ts_decomposed$time.series[13,]\n",
    "Jan_1974[1]\n",
    "library(caret)"
   ]
  },
  {
   "cell_type": "code",
   "execution_count": null,
   "id": "c216ca6c-bdcf-4f02-ae75-0e85c4ab90b2",
   "metadata": {},
   "outputs": [],
   "source": [
    "X = c(19,99,10,8)\n",
    "is.element(99,X)\n",
    "\n",
    "library(reshape2)\n",
    "quanthub_wide= data.frame(id=c(1,2),\n",
    "                          q1= c('A','B'),\n",
    "                          q2= c('C','A'))\n",
    "melt(quanthub_wide, id_vars=c(\"q1\",\"q2\"))\n",
    "\n",
    "dcast(quanthub_wide, id~q1+q2)\n",
    "data(longley)\n",
    "head(longley)\n",
    "employment = longley[c('Unemployed','Employed')]\n",
    "\n",
    "scale(longley[\"Population\"], center=T)\n",
    "data(mtcars)\n",
    "wt_mpg_df = mtcars[,c('wt','mpg')]\n",
    "kmeans.fit(wt_mpg_df,4)\n",
    "clusters = kmeans(wt_mpg_df,4)\n",
    "cluster_means = clusters$centers\n",
    "cluster_means\n",
    "\n",
    "X = c('1','2','A','3','4')\n",
    "as.numeric(X)"
   ]
  },
  {
   "cell_type": "code",
   "execution_count": null,
   "id": "72468324-60f5-4d6a-b5e6-3b42c6c0347d",
   "metadata": {},
   "outputs": [],
   "source": [
    "\n",
    "X= c(1,2,3,4,5,6,7,8)\n",
    "matrix(X, nrow=5, ncol=2)\n",
    "\n",
    "\n",
    "library(dplyr)\n",
    "quanthub = data.frame(Course_Number = c( 11225, 22553, 28945, 55145),\n",
    "                      Difficulty = c(4,4,3,1))\n",
    "\n",
    "quanthub()\n",
    "quanthub(Diif2 = Difficulty * 2) %>% arrange()\n",
    "#create a column with Diff2 using dplyr"
   ]
  }
 ],
 "metadata": {
  "kernelspec": {
   "display_name": "Python 3 (ipykernel)",
   "language": "python",
   "name": "python3"
  },
  "language_info": {
   "codemirror_mode": {
    "name": "ipython",
    "version": 3
   },
   "file_extension": ".py",
   "mimetype": "text/x-python",
   "name": "python",
   "nbconvert_exporter": "python",
   "pygments_lexer": "ipython3",
   "version": "3.9.7"
  }
 },
 "nbformat": 4,
 "nbformat_minor": 5
}
