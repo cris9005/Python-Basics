{
 "cells": [
  {
   "cell_type": "code",
   "execution_count": null,
   "id": "d9b8d4dd-48bd-4edc-be7e-7d234c4f4ff2",
   "metadata": {},
   "outputs": [],
   "source": [
    "from sklearn.model_selection import train_test_split\n",
    "X_train,X_test,y_train,y_test = train_test_split(X,y,test_size=0.3)\n",
    "\n",
    "Evaluating model performance is done with train-test data in this form:\n",
    "\n",
    "from sklearn.cluster import KMeans\n",
    "model = KMeans(n_clusters = number_of_clusters)\n",
    "model.fit(X)"
   ]
  },
  {
   "cell_type": "code",
   "execution_count": null,
   "id": "6926026c-e742-4361-9752-5ef775970112",
   "metadata": {},
   "outputs": [],
   "source": [
    "#Standardization\n",
    "from sklearn.preprocessing import StandardScaler\n",
    "scaler = StandardScaler().fit(X_train)\n",
    "standardized_X = scaler.transform(X_train)\n",
    "standardized_X_test = scaler.transform(X_test)\n",
    "\n",
    "##the transformed_data is standardized and can be used for many distance-based algorithms such as Support Vector Machine and K-Nearest Neighbors."
   ]
  },
  {
   "cell_type": "code",
   "execution_count": null,
   "id": "deb950e4-347f-4734-81bd-65396e75ab87",
   "metadata": {},
   "outputs": [],
   "source": [
    "#Normalization\n",
    "from sklearn.preprocessing import Normalizer\n",
    "scaler = Normalizer().fit(X_train)\n",
    "normalized_X = scaler.transform(X_train)\n",
    "normalized_X_test = scaler.transform(X_test)"
   ]
  },
  {
   "cell_type": "code",
   "execution_count": null,
   "id": "94dc4c94-be8d-4ce6-882c-41fc340612d7",
   "metadata": {},
   "outputs": [],
   "source": [
    "#Encoding Categorical Features\n",
    "from sklearn.preprocessing import LabelEncoder\n",
    "enc = LabelEncoder()\n",
    "y = enc.fit_transform(y)"
   ]
  },
  {
   "cell_type": "code",
   "execution_count": null,
   "id": "36e76b96-e3e7-4e35-b98a-955bcf52b50f",
   "metadata": {},
   "outputs": [],
   "source": [
    "#Imputing Missing Values\n",
    "from sklearn.preprocessing import Imputer\n",
    "imp = Imputer(missing_values=0, strategy='mean', axis=0)\n",
    "imp.fit_transform(X_train)"
   ]
  },
  {
   "cell_type": "code",
   "execution_count": null,
   "id": "aa5da201-f3bf-4d55-9eaa-da131e9dfe5e",
   "metadata": {},
   "outputs": [],
   "source": [
    "#Supervised Learning Estimators\n",
    "#Linear Regression\n",
    "from sklearn.linear_model import LinearRegression\n",
    "lr = LinearRegression(normalize=True)"
   ]
  },
  {
   "cell_type": "code",
   "execution_count": null,
   "id": "5ca80ba8-78c4-4f30-b90a-04f44fce7826",
   "metadata": {},
   "outputs": [],
   "source": [
    "#KNN\n",
    "from sklearn import neighbors\n",
    "knn = neighbors.KNeighborsClassifier(n_neighbors=5)"
   ]
  },
  {
   "cell_type": "code",
   "execution_count": null,
   "id": "d933dd03-b84e-44ee-9f52-384c0e641e4b",
   "metadata": {},
   "outputs": [],
   "source": [
    "#Support Vector Machines (SVM)\n",
    "from sklearn.svm import SVC\n",
    "svc = SVC(kernel='linear')"
   ]
  },
  {
   "cell_type": "code",
   "execution_count": null,
   "id": "5e22f4b4-62c1-44d6-9fd6-496977815bb3",
   "metadata": {},
   "outputs": [],
   "source": [
    "#Naive Bayes\n",
    "from sklearn.naive_bayes import GaussianNB\n",
    "gnb = GaussianNB()"
   ]
  },
  {
   "cell_type": "code",
   "execution_count": null,
   "id": "3b4975ee-99ef-4cf8-8235-43be33cefdf7",
   "metadata": {},
   "outputs": [],
   "source": [
    "##Model Fitting\n",
    "#Supervised learning\n",
    "lr.fit(X, y)\n",
    "knn.fit(X_train, y_train)\n",
    "svc.fit(X_train, y_train)"
   ]
  },
  {
   "cell_type": "code",
   "execution_count": null,
   "id": "a68b003e-5996-4872-8d0b-e2d66a40a511",
   "metadata": {},
   "outputs": [],
   "source": [
    "#Unsupervised Learning\n",
    "k_means.fit(X_train)\n",
    "pca_model = pca.fit_transform(X_train)"
   ]
  },
  {
   "cell_type": "code",
   "execution_count": null,
   "id": "9357fe01-ae21-4243-b6aa-36a153b4d198",
   "metadata": {},
   "outputs": [],
   "source": [
    "##Prediction\n",
    "#Supervised Estimators\n",
    "y_pred = svc.predict(np.random.random((2,5)))\n",
    "y_pred = lr.predict(X_test)\n",
    "y_pred = knn.predict_proba(X_test))"
   ]
  },
  {
   "cell_type": "code",
   "execution_count": null,
   "id": "8dd62791-253b-4d4a-bec4-74d77e1da133",
   "metadata": {},
   "outputs": [],
   "source": [
    "#Unsupervised Estimators\n",
    "y_pred = k_means.predict(X_test)"
   ]
  },
  {
   "cell_type": "code",
   "execution_count": null,
   "id": "19386859-fc22-4723-a13c-831ef65db47f",
   "metadata": {},
   "outputs": [],
   "source": [
    "#Evaluate Your Model's Performance\n",
    "#Classification Metrics\n",
    "#Accuracy Score\n",
    "knn.score(X_test, y_test)\n",
    "from sklearn.metrics import accuracy_score\n",
    "accuracy_score(y_test, y_pred)"
   ]
  },
  {
   "cell_type": "code",
   "execution_count": null,
   "id": "ea6042ad-996e-430f-898c-cb4118102e04",
   "metadata": {},
   "outputs": [],
   "source": [
    "#Classification Report\n",
    "from sklearn.metrics import classification_report\n",
    "print(classification_report(y_test, y_pred)))"
   ]
  },
  {
   "cell_type": "code",
   "execution_count": null,
   "id": "dbe7caf7-61ff-40cc-81f0-1bfa0130d2b3",
   "metadata": {},
   "outputs": [],
   "source": [
    "#Confusion Matrix\n",
    "from sklearn.metrics import confusion_matrix\n",
    "print(confusion_matrix(y_test, y_pred)))"
   ]
  },
  {
   "cell_type": "code",
   "execution_count": null,
   "id": "46450974-7224-41b3-b79b-51d4707e2ed8",
   "metadata": {},
   "outputs": [],
   "source": [
    "#To find the optimal number of cluster\n",
    "from sklearn.metrics import silhouette_score\n",
    "scores = []\n",
    "for cluster_num in range(lower_bound, upper_bound):\n",
    "     model = KMeans(n_clusters=cluster_num)\n",
    "     model.fit(data)\n",
    "     score = silhouette_score(data, model.predict(data))"
   ]
  }
 ],
 "metadata": {
  "kernelspec": {
   "display_name": "Python 3 (ipykernel)",
   "language": "python",
   "name": "python3"
  },
  "language_info": {
   "codemirror_mode": {
    "name": "ipython",
    "version": 3
   },
   "file_extension": ".py",
   "mimetype": "text/x-python",
   "name": "python",
   "nbconvert_exporter": "python",
   "pygments_lexer": "ipython3",
   "version": "3.9.7"
  }
 },
 "nbformat": 4,
 "nbformat_minor": 5
}
