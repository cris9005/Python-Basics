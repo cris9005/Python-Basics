{
 "cells": [
  {
   "cell_type": "code",
   "execution_count": null,
   "id": "471906de-977e-4619-a2a2-3fd0799ea9a1",
   "metadata": {},
   "outputs": [],
   "source": [
    "##The Correlation Matrix\n",
    "import matplotlib.pyplot as plt\n",
    "import seaborn as sns\n",
    "\n",
    "\n",
    "#figure size\n",
    "plt.figure(figsize=(20, 10))\n",
    "#heat map for correlation coefficient\n",
    "sns.heatmap(df.corr(), annot=True, fmt=\"0.1\")\n",
    "\n",
    "\n",
    "#creating a subtdataframe\n",
    "a = df[['baseline value', 'histogram_mode', 'histogram_median', 'histogram_mean', 'histogram_width', 'histogram_min']]\n",
    "#creating a unique plot with the regressions\n",
    "g = sns.PairGrid(a)\n",
    "g = g.map_upper(sns.regplot, scatter_kws={'alpha':0.15}, line_kws={'color': 'red'})\n",
    "\n",
    "linear regression\n",
    "lasso regularized regression model\n",
    "\n",
    "\n",
    "\n"
   ]
  },
  {
   "cell_type": "markdown",
   "id": "0e08fb53-261e-42e6-b149-794fa198863a",
   "metadata": {},
   "source": [
    "##choose to eliminate the following features\n",
    "#(eliminating more features would result in the loss of some data because they are all crossed with each other):\n",
    "#we are talking about the highly correlated features.\n",
    "#Choose the Lasso regressor only if the problem is a regression the model to be used is linear and there is a “high” number of features.\n",
    "Split the dataset into train and test sets and then choose one method between Mutual Information and Anova f-test.\n",
    "Anova f-test is able to “feel” the linear dependence between features, while the mutual information “feels” any kind of dependence, \n",
    "in particular “feels” the non-linear ones (read also the documentation here). In the case seen above, considering the results obtained\n",
    "with the correlation matrix and the consequent elimination of two features following the graphs with linear regression, then, coherently,\n",
    "the mutual information indicates better than the Anova f-test which are the features that really matter for this type of problem.\n",
    "\n"
   ]
  },
  {
   "cell_type": "code",
   "execution_count": null,
   "id": "33c4f537-b700-4f15-9d6f-ba448575f33b",
   "metadata": {},
   "outputs": [],
   "source": [
    "#mutual information needed\n",
    "\n",
    "# applied to split data\n",
    "mutual = SelectKBest(score_func= mutual_info_classif, k ='all')\n",
    "\n",
    "#learn relationship from training data\n",
    "mutual.fit(X_train, y_train)\n",
    "# Transform train input\n",
    "X_train_mut= mutual.transfrom(X_train)\n",
    "#Transform test imput data\n",
    "X_test_mut = mutual.transform(X_test)\n",
    "\n",
    "# printing scores of the features\n",
    "for i in range(len(mutual.scores_)):\n",
    "    print('Feature %d: %f' % (i,mutual.scores_[i]))\n",
    "    \n",
    "    \n",
    "#plot scores\n",
    "plt.bar([i for i in range(len(mutual.scores_))], mutual_scores_)\n",
    "plt.show()\n",
    "\n"
   ]
  },
  {
   "cell_type": "code",
   "execution_count": null,
   "id": "f349c91f-423c-4067-ac09-c6ca92261108",
   "metadata": {},
   "outputs": [],
   "source": [
    "## Anova F-test\n",
    "# configure to select all features\n",
    "an = SelectKBest(score_func=f_classif, k='all')\n",
    "# learn relationship from training data\n",
    "an.fit(X_train, y_train)\n",
    "# transform train input data\n",
    "X_train_an = an.transform(X_train)\n",
    "# transform test input data\n",
    "X_test_an = an.transform(X_test)\n",
    "#printing scores of the features\n",
    "for i in range(len(an.scores_)):\n",
    "    print('Feature %d: %f' % (i, mutual.scores_[i]))\n",
    "# plot the scores\n",
    "plt.bar([i for i in range(len(an.scores_))], an.scores_)\n",
    "plt.show()"
   ]
  },
  {
   "cell_type": "code",
   "execution_count": null,
   "id": "88045a99-ddf8-4e36-855b-2896c1dea945",
   "metadata": {},
   "outputs": [],
   "source": [
    "import numpy as np\n",
    "\n",
    "def fivenum(file):\n",
    "    return np.percentile(file, [0, 25, 50, 75, 100], interpolation = 'midpoint')"
   ]
  }
 ],
 "metadata": {
  "kernelspec": {
   "display_name": "Python 3 (ipykernel)",
   "language": "python",
   "name": "python3"
  },
  "language_info": {
   "codemirror_mode": {
    "name": "ipython",
    "version": 3
   },
   "file_extension": ".py",
   "mimetype": "text/x-python",
   "name": "python",
   "nbconvert_exporter": "python",
   "pygments_lexer": "ipython3",
   "version": "3.9.7"
  }
 },
 "nbformat": 4,
 "nbformat_minor": 5
}
