{
 "cells": [
  {
   "cell_type": "code",
   "execution_count": null,
   "id": "8d305d9d-680a-4484-bf09-03f14d33a5c0",
   "metadata": {},
   "outputs": [],
   "source": [
    "'this is an integer {:d}'.format(15)\n",
    "Out[77]: 'this is an integer 15'\n",
    "\n",
    "In [78]: 'this is an integer {:4d}'.format(15)\n",
    "Out[78]: 'this is an integer   15'\n",
    "\n",
    "In [79]: 'this is an integer {:04d}'.format(15)\n",
    "Out[79]: 'this is an integer 0015'\n",
    "\n",
    "In [80]: 'this is a float {:f}'.format(15.3456)\n",
    "Out[80]: 'this is a float 15.345600'\n",
    "\n",
    "In [81]: 'this is a float {:.2f}'.format(15.3456)\n",
    "Out[81]: 'this is a float 15.35'\n",
    "\n",
    "In [82]: 'this is a float {:8f}'.format(15.3456)\n",
    "Out[82]: 'this is a float 15.345600'\n",
    "\n",
    "In [83]: 'this is a float {:8.2f}'.format(15.3456)\n",
    "Out[83]: 'this is a float    15.35'\n",
    "\n",
    "In [84]: 'this is a float {:08.2f}'.format(15.3456)\n",
    "Out[84]: 'this is a float 00015.35'\n",
    "\n",
    "In [85]: 'this is a string {:s}'.format('Python')\n",
    "Out[85]: 'this is a string Python'\n",
    "\n",
    "In [86]: 'this is a string {:10s}'.format('Python')\n",
    "Out[86]: 'this is a string Python    '"
   ]
  },
  {
   "cell_type": "code",
   "execution_count": null,
   "id": "e05ca898-b385-41f2-af2f-14f5b5acf56f",
   "metadata": {},
   "outputs": [],
   "source": [
    "In [67]: 'this is an integer %d' % 15  1\n",
    "Out[67]: 'this is an integer 15'\n",
    "\n",
    "In [68]: 'this is an integer %4d' % 15  2\n",
    "Out[68]: 'this is an integer   15'\n",
    "\n",
    "In [69]: 'this is an integer %04d' % 15  3\n",
    "Out[69]: 'this is an integer 0015'\n",
    "\n",
    "In [70]: 'this is a float %f' % 15.3456  4\n",
    "Out[70]: 'this is a float 15.345600'\n",
    "\n",
    "In [71]: 'this is a float %.2f' % 15.3456  5\n",
    "Out[71]: 'this is a float 15.35'\n",
    "\n",
    "In [72]: 'this is a float %8f' % 15.3456  6\n",
    "Out[72]: 'this is a float 15.345600'\n",
    "\n",
    "In [73]: 'this is a float %8.2f' % 15.3456  7\n",
    "Out[73]: 'this is a float    15.35'\n",
    "\n",
    "In [74]: 'this is a float %08.2f' % 15.3456  8\n",
    "Out[74]: 'this is a float 00015.35'\n",
    "\n",
    "In [75]: 'this is a string %s' % 'Python'  9\n",
    "Out[75]: 'this is a string Python'\n",
    "\n",
    "In [76]: 'this is a string %10s' % 'Python'  10\n",
    "Out[76]: 'this is a string     Python'"
   ]
  }
 ],
 "metadata": {
  "kernelspec": {
   "display_name": "Python 3 (ipykernel)",
   "language": "python",
   "name": "python3"
  },
  "language_info": {
   "codemirror_mode": {
    "name": "ipython",
    "version": 3
   },
   "file_extension": ".py",
   "mimetype": "text/x-python",
   "name": "python",
   "nbconvert_exporter": "python",
   "pygments_lexer": "ipython3",
   "version": "3.9.7"
  }
 },
 "nbformat": 4,
 "nbformat_minor": 5
}
