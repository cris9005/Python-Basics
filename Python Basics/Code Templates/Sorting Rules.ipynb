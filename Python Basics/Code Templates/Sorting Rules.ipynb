{
 "cells": [
  {
   "cell_type": "code",
   "execution_count": null,
   "id": "81efad93-68e5-4290-bf89-66858e8bf13e",
   "metadata": {},
   "outputs": [],
   "source": [
    "## Insertation Sort\n",
    "from typing import List\n",
    "\n",
    "def sort_list(unsorted_list: List[int]) -> List[int]:\n",
    "    for i, entry in enumerate(unsorted_list):\n",
    "        current = i\n",
    "        while current > 0 and unsorted_list[current] < unsorted_list[current - 1]:\n",
    "            unsorted_list[current], unsorted_list[current - 1] = unsorted_list[current - 1], unsorted_list[current]\n",
    "            current -= 1\n",
    "    return unsorted_list\n",
    "\n",
    "if __name__ == '__main__':\n",
    "    unsorted_list = [int(x) for x in input().split()]\n",
    "    res = sort_list(unsorted_list)\n",
    "    print(' '.join(map(str, res)))"
   ]
  },
  {
   "cell_type": "code",
   "execution_count": null,
   "id": "554def38-cc4f-4184-a5f2-3b3c37a3b285",
   "metadata": {},
   "outputs": [],
   "source": [
    "# Selection Sort\n",
    "from typing import List\n",
    "\n",
    "def sort_list(unsorted_list: List[int]) -> List[int]:\n",
    "    n = len(unsorted_list)\n",
    "    for i in range(n):\n",
    "        min_index = i\n",
    "        for j in range(i, n):\n",
    "            if unsorted_list[j] < unsorted_list[min_index]:\n",
    "                min_index = j\n",
    "        unsorted_list[i], unsorted_list[min_index] = unsorted_list[min_index], unsorted_list[i]\n",
    "    return unsorted_list\n",
    "\n",
    "if __name__ == '__main__':\n",
    "    unsorted_list = [int(x) for x in input().split()]\n",
    "    res = sort_list(unsorted_list)\n",
    "    print(' '.join(map(str, res)))\n"
   ]
  },
  {
   "cell_type": "code",
   "execution_count": null,
   "id": "0db4bcfd-b7fc-4838-a822-33a1c633e9f1",
   "metadata": {},
   "outputs": [],
   "source": [
    "## Bubble Sorting\n",
    "\n",
    "from typing import List\n",
    "\n",
    "def sort_list(unsorted_list: List[int]) -> List[int]:\n",
    "    n = len(unsorted_list)\n",
    "    for i in reversed(range(n)):\n",
    "        swapped = False\n",
    "        for j in range(i):\n",
    "            if unsorted_list[j] > unsorted_list[j + 1]:\n",
    "                unsorted_list[j], unsorted_list[j + 1] = unsorted_list[j + 1], unsorted_list[j]\n",
    "                swapped = True\n",
    "        if not swapped:\n",
    "            return unsorted_list\n",
    "    return unsorted_list\n",
    "\n",
    "if __name__ == '__main__':\n",
    "    unsorted_list = [int(x) for x in input().split()]\n",
    "    res = sort_list(unsorted_list)\n",
    "    print(' '.join(map(str, res)))"
   ]
  },
  {
   "cell_type": "code",
   "execution_count": null,
   "id": "2814f090-e25b-48a2-954d-d2442fd7fa64",
   "metadata": {},
   "outputs": [],
   "source": [
    "## MERGE Sorting\n",
    "from typing import List\n",
    "\n",
    "def sort_list(unsorted_list: List[int]) -> List[int]:\n",
    "    n = len(unsorted_list)\n",
    "    if n <= 1:\n",
    "        return unsorted_list\n",
    "    midpoint = n // 2\n",
    "    left_list, right_list = sort_list(unsorted_list[:midpoint]), sort_list(unsorted_list[midpoint:])\n",
    "    result_list = []\n",
    "    left_pointer, right_pointer = 0, 0\n",
    "    while left_pointer < midpoint or right_pointer < n - midpoint:\n",
    "        if left_pointer == midpoint:\n",
    "            result_list.append(right_list[right_pointer])\n",
    "            right_pointer += 1\n",
    "        elif right_pointer == n - midpoint:\n",
    "            result_list.append(left_list[left_pointer])\n",
    "            left_pointer += 1\n",
    "        elif left_list[left_pointer] <= right_list[right_pointer]:\n",
    "            result_list.append(left_list[left_pointer])\n",
    "            left_pointer += 1\n",
    "        else:\n",
    "            result_list.append(right_list[right_pointer])\n",
    "            right_pointer += 1\n",
    "    return result_list\n",
    "\n",
    "if __name__ == '__main__':\n",
    "    unsorted_list = [int(x) for x in input().split()]\n",
    "    res = sort_list(unsorted_list)\n",
    "    print(' '.join(map(str, res)))"
   ]
  }
 ],
 "metadata": {
  "kernelspec": {
   "display_name": "Python 3 (ipykernel)",
   "language": "python",
   "name": "python3"
  },
  "language_info": {
   "codemirror_mode": {
    "name": "ipython",
    "version": 3
   },
   "file_extension": ".py",
   "mimetype": "text/x-python",
   "name": "python",
   "nbconvert_exporter": "python",
   "pygments_lexer": "ipython3",
   "version": "3.9.7"
  }
 },
 "nbformat": 4,
 "nbformat_minor": 5
}
