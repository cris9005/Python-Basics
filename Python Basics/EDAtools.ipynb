{
 "cells": [
  {
   "cell_type": "code",
   "execution_count": null,
   "id": "3f5809f8-aad5-4d2a-a47d-90e3b5926d01",
   "metadata": {},
   "outputs": [],
   "source": [
    "import pandas as pd\n",
    "import numpy as np\n",
    "import matplotlib.pyplot as plt\n",
    "import matplotlib as mpl\n",
    "import seaborn as sns"
   ]
  },
  {
   "cell_type": "code",
   "execution_count": null,
   "id": "55b3a094-2ea3-4fe7-9119-f6120b75d5d5",
   "metadata": {},
   "outputs": [],
   "source": [
    "airport_data = pd.read_csv('Documents\\BainAirlineTaskDatasets\\Flight_on_time_HIX.csv')\n",
    "weather_data = pd.read_csv('Documents\\BainAirlineTaskDatasets\\weather.csv')"
   ]
  },
  {
   "cell_type": "code",
   "execution_count": null,
   "id": "5892e2d8-2a18-4cbd-8ef6-921d336334cf",
   "metadata": {},
   "outputs": [],
   "source": [
    "## Review/Math Functions\n",
    ".max()\n",
    ".round(list, numdigits)\n",
    ".type()\n",
    ".int()\n",
    ".len()\n",
    "list = []\n",
    "\n",
    ".isnull().sum()\n",
    "##5. Check the percentages of missing value\n",
    "df.isnull().sum() / df.shape[0] * 100\n",
    "data['ShortPassing'].fillna(data['ShortPassing'].mean(), inplace = True)"
   ]
  },
  {
   "cell_type": "code",
   "execution_count": null,
   "id": "88364ed6-1341-4911-a28d-c2184fa99a8e",
   "metadata": {},
   "outputs": [],
   "source": [
    ".append('')\n",
    "\n",
    "df['column name'] = 'new variable'\n",
    "df[0:2] = 'x', 'y' \n",
    "del(df[index num]) ## removal by index\n",
    "df + ['', number] # Adding two lists together"
   ]
  },
  {
   "cell_type": "code",
   "execution_count": null,
   "id": "fd59adac-b0cd-4522-9f78-4c2b40cd712b",
   "metadata": {},
   "outputs": [],
   "source": [
    "##Reference to List\n",
    "y= list()\n",
    "y = x[:] # all list elements are pulled\n",
    "\n",
    "## Index Slicing \n",
    "df[start:exclude]\n",
    "df[:exclude]  # start from 0\n",
    "df[start:] ## begin at start end to end of list\n",
    "df[-1] # calls the last element\n"
   ]
  },
  {
   "cell_type": "markdown",
   "id": "56d3d8d9-3a3d-4ac5-b6b4-b5eb17b9bb07",
   "metadata": {},
   "source": [
    "4. Change the data type"
   ]
  },
  {
   "cell_type": "code",
   "execution_count": null,
   "id": "d3e7a63c-39f7-400e-aace-2a3c27cd9f93",
   "metadata": {},
   "outputs": [],
   "source": [
    "#Replace Data Types to Integer\n",
    "df[\"Customer Number\"] = df['Customer Number'].astype('int')\n",
    "#Replace Data Types to String\n",
    "df[\"Customer Number\"] = df['Customer Number'].astype('str')\n",
    "#Replace Data Types to Boolean\n",
    "df[\"IsPurchased\"] = df['IsPurchased'].astype('bool')\n",
    "#Replace Data Types to Float\n",
    "df[\"Total Spend\"] = df['Total Spend'].astype('float')\n",
    "#Replace Data Types to Datetime with format= '%Y%m%d'\n",
    "df['Dates'] = pd.to_datetime(df['Dates'], format='%Y%m%d')"
   ]
  },
  {
   "cell_type": "code",
   "execution_count": null,
   "id": "bc2152d8-273c-484a-bbc1-f742cf4d5e78",
   "metadata": {},
   "outputs": [],
   "source": [
    "df[['city', 'country']] = df['address'].str.split(',', expand=True)"
   ]
  },
  {
   "cell_type": "code",
   "execution_count": null,
   "id": "3953853b-17ed-4a33-bbb0-82c464bbb408",
   "metadata": {},
   "outputs": [],
   "source": [
    "\n",
    "#Summary statistics\n",
    "df.describe()\n",
    "#drop duplicates values and keep the first records from duplicates\n",
    "#with an assumption that the first row contains the latest data \n",
    "\n",
    "df = df.drop_duplicates(\"Player\", keep='first')\n",
    "df= df.reset_index(drop=True)"
   ]
  },
  {
   "cell_type": "code",
   "execution_count": null,
   "id": "1f9d049c-3d1c-4392-8654-094fc83458e2",
   "metadata": {},
   "outputs": [],
   "source": [
    "%pylab inline\n",
    "null_columns = loan.isnull().sum()  # to find the number of null values in each column\n",
    "null_columns = null_columns[null_columns.values > (0.30*len(loan))]\n",
    "plt.figure(figsize(20,4))\n",
    "null_columns.plot(kind='bar')\n",
    "plt.title('List of columns Vs Null counts')\n",
    "plt.show();"
   ]
  },
  {
   "cell_type": "code",
   "execution_count": null,
   "id": "0a8fdf36-5afc-49c6-82f6-915d0d651e85",
   "metadata": {},
   "outputs": [],
   "source": [
    "#plot the histogram to see the distribution of the point data.\n",
    "sns.displot(data, x=\"age\")"
   ]
  },
  {
   "cell_type": "code",
   "execution_count": null,
   "id": "07ab1587-e795-49a4-b395-19d554d74871",
   "metadata": {},
   "outputs": [],
   "source": [
    "corrMatrix = df.corr()\n",
    "\n",
    "sns.heatmap(corrMatrix, annot = True, cmap= 'coolwarm')\n"
   ]
  },
  {
   "cell_type": "code",
   "execution_count": null,
   "id": "499d9eeb-2732-483f-9b4d-ca2a9a339d87",
   "metadata": {},
   "outputs": [],
   "source": [
    "# filter the dataframes by country\n",
    "wales = dataset_clean[dataset_clean[\"country\"] == 'Wales']\n",
    "israel = dataset_clean[dataset_clean[\"country\"] == 'Israel\n",
    "wales.hist(column=\"daily_vaccinations\")\n",
    "                       "
   ]
  },
  {
   "cell_type": "code",
   "execution_count": null,
   "id": "477acb8f-635b-4d1c-9451-6d4f8114ef59",
   "metadata": {},
   "outputs": [],
   "source": [
    "new_df = pd.get_dummies(df,drop_first=True)\n",
    "from sklearn.preprocessing import StandardScaler\n",
    "X_std = StandardScaler().fit_transform(X)"
   ]
  },
  {
   "cell_type": "code",
   "execution_count": null,
   "id": "bf6be51b-3ef9-46cd-a84d-46a391f9361f",
   "metadata": {},
   "outputs": [],
   "source": [
    "data.iloc[data.groupby(data['Position'])['Overall'].idxmax()][['Position', 'Name', 'Age', 'Club', 'Nationality']]"
   ]
  },
  {
   "cell_type": "code",
   "execution_count": null,
   "id": "cb1329ba-aa11-4755-9698-3792abd9c88c",
   "metadata": {},
   "outputs": [],
   "source": [
    "sns.lmplot(x = 'BallControl', y = 'Dribbling', data = data, col = 'Preferred Foot')\n",
    "<seaborn.axisgrid.FacetGrid at 0x7f9e33b3ae80>"
   ]
  },
  {
   "cell_type": "code",
   "execution_count": null,
   "id": "9bd33556-e70d-44eb-90d9-25c1d39f9cee",
   "metadata": {},
   "outputs": [],
   "source": []
  },
  {
   "cell_type": "code",
   "execution_count": null,
   "id": "6bb40c69-3282-48dd-8660-720eb3053315",
   "metadata": {},
   "outputs": [],
   "source": []
  }
 ],
 "metadata": {
  "kernelspec": {
   "display_name": "Python 3 (ipykernel)",
   "language": "python",
   "name": "python3"
  },
  "language_info": {
   "codemirror_mode": {
    "name": "ipython",
    "version": 3
   },
   "file_extension": ".py",
   "mimetype": "text/x-python",
   "name": "python",
   "nbconvert_exporter": "python",
   "pygments_lexer": "ipython3",
   "version": "3.9.7"
  }
 },
 "nbformat": 4,
 "nbformat_minor": 5
}
